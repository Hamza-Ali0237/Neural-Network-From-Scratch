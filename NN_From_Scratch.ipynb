{
 "cells": [
  {
   "cell_type": "code",
   "execution_count": 46,
   "id": "initial_id",
   "metadata": {
    "collapsed": true,
    "ExecuteTime": {
     "end_time": "2023-11-29T12:54:57.592510Z",
     "start_time": "2023-11-29T12:54:57.572306Z"
    }
   },
   "outputs": [],
   "source": [
    "import pandas as pd\n",
    "import numpy as np\n",
    "import matplotlib.pyplot as plt\n",
    "import math"
   ]
  },
  {
   "cell_type": "markdown",
   "source": [
    "# 1. Load the data"
   ],
   "metadata": {
    "collapsed": false
   },
   "id": "5efdebab8c52262c"
  },
  {
   "cell_type": "code",
   "execution_count": 47,
   "outputs": [],
   "source": [
    "data = pd.read_csv('digit-recognizer/train.csv')"
   ],
   "metadata": {
    "collapsed": false,
    "ExecuteTime": {
     "end_time": "2023-11-29T12:55:00.359899Z",
     "start_time": "2023-11-29T12:54:57.582416Z"
    }
   },
   "id": "a8817e0057f3a776"
  },
  {
   "cell_type": "code",
   "execution_count": 48,
   "outputs": [
    {
     "data": {
      "text/plain": "   label  pixel0  pixel1  pixel2  pixel3  pixel4  pixel5  pixel6  pixel7   \n0      1       0       0       0       0       0       0       0       0  \\\n1      0       0       0       0       0       0       0       0       0   \n2      1       0       0       0       0       0       0       0       0   \n3      4       0       0       0       0       0       0       0       0   \n4      0       0       0       0       0       0       0       0       0   \n\n   pixel8  ...  pixel774  pixel775  pixel776  pixel777  pixel778  pixel779   \n0       0  ...         0         0         0         0         0         0  \\\n1       0  ...         0         0         0         0         0         0   \n2       0  ...         0         0         0         0         0         0   \n3       0  ...         0         0         0         0         0         0   \n4       0  ...         0         0         0         0         0         0   \n\n   pixel780  pixel781  pixel782  pixel783  \n0         0         0         0         0  \n1         0         0         0         0  \n2         0         0         0         0  \n3         0         0         0         0  \n4         0         0         0         0  \n\n[5 rows x 785 columns]",
      "text/html": "<div>\n<style scoped>\n    .dataframe tbody tr th:only-of-type {\n        vertical-align: middle;\n    }\n\n    .dataframe tbody tr th {\n        vertical-align: top;\n    }\n\n    .dataframe thead th {\n        text-align: right;\n    }\n</style>\n<table border=\"1\" class=\"dataframe\">\n  <thead>\n    <tr style=\"text-align: right;\">\n      <th></th>\n      <th>label</th>\n      <th>pixel0</th>\n      <th>pixel1</th>\n      <th>pixel2</th>\n      <th>pixel3</th>\n      <th>pixel4</th>\n      <th>pixel5</th>\n      <th>pixel6</th>\n      <th>pixel7</th>\n      <th>pixel8</th>\n      <th>...</th>\n      <th>pixel774</th>\n      <th>pixel775</th>\n      <th>pixel776</th>\n      <th>pixel777</th>\n      <th>pixel778</th>\n      <th>pixel779</th>\n      <th>pixel780</th>\n      <th>pixel781</th>\n      <th>pixel782</th>\n      <th>pixel783</th>\n    </tr>\n  </thead>\n  <tbody>\n    <tr>\n      <th>0</th>\n      <td>1</td>\n      <td>0</td>\n      <td>0</td>\n      <td>0</td>\n      <td>0</td>\n      <td>0</td>\n      <td>0</td>\n      <td>0</td>\n      <td>0</td>\n      <td>0</td>\n      <td>...</td>\n      <td>0</td>\n      <td>0</td>\n      <td>0</td>\n      <td>0</td>\n      <td>0</td>\n      <td>0</td>\n      <td>0</td>\n      <td>0</td>\n      <td>0</td>\n      <td>0</td>\n    </tr>\n    <tr>\n      <th>1</th>\n      <td>0</td>\n      <td>0</td>\n      <td>0</td>\n      <td>0</td>\n      <td>0</td>\n      <td>0</td>\n      <td>0</td>\n      <td>0</td>\n      <td>0</td>\n      <td>0</td>\n      <td>...</td>\n      <td>0</td>\n      <td>0</td>\n      <td>0</td>\n      <td>0</td>\n      <td>0</td>\n      <td>0</td>\n      <td>0</td>\n      <td>0</td>\n      <td>0</td>\n      <td>0</td>\n    </tr>\n    <tr>\n      <th>2</th>\n      <td>1</td>\n      <td>0</td>\n      <td>0</td>\n      <td>0</td>\n      <td>0</td>\n      <td>0</td>\n      <td>0</td>\n      <td>0</td>\n      <td>0</td>\n      <td>0</td>\n      <td>...</td>\n      <td>0</td>\n      <td>0</td>\n      <td>0</td>\n      <td>0</td>\n      <td>0</td>\n      <td>0</td>\n      <td>0</td>\n      <td>0</td>\n      <td>0</td>\n      <td>0</td>\n    </tr>\n    <tr>\n      <th>3</th>\n      <td>4</td>\n      <td>0</td>\n      <td>0</td>\n      <td>0</td>\n      <td>0</td>\n      <td>0</td>\n      <td>0</td>\n      <td>0</td>\n      <td>0</td>\n      <td>0</td>\n      <td>...</td>\n      <td>0</td>\n      <td>0</td>\n      <td>0</td>\n      <td>0</td>\n      <td>0</td>\n      <td>0</td>\n      <td>0</td>\n      <td>0</td>\n      <td>0</td>\n      <td>0</td>\n    </tr>\n    <tr>\n      <th>4</th>\n      <td>0</td>\n      <td>0</td>\n      <td>0</td>\n      <td>0</td>\n      <td>0</td>\n      <td>0</td>\n      <td>0</td>\n      <td>0</td>\n      <td>0</td>\n      <td>0</td>\n      <td>...</td>\n      <td>0</td>\n      <td>0</td>\n      <td>0</td>\n      <td>0</td>\n      <td>0</td>\n      <td>0</td>\n      <td>0</td>\n      <td>0</td>\n      <td>0</td>\n      <td>0</td>\n    </tr>\n  </tbody>\n</table>\n<p>5 rows × 785 columns</p>\n</div>"
     },
     "execution_count": 48,
     "metadata": {},
     "output_type": "execute_result"
    }
   ],
   "source": [
    "data.head()"
   ],
   "metadata": {
    "collapsed": false,
    "ExecuteTime": {
     "end_time": "2023-11-29T12:55:00.380754Z",
     "start_time": "2023-11-29T12:55:00.373720Z"
    }
   },
   "id": "1f427b31219436c5"
  },
  {
   "cell_type": "code",
   "execution_count": 49,
   "outputs": [
    {
     "data": {
      "text/plain": "(42000, 785)"
     },
     "execution_count": 49,
     "metadata": {},
     "output_type": "execute_result"
    }
   ],
   "source": [
    "data.shape"
   ],
   "metadata": {
    "collapsed": false,
    "ExecuteTime": {
     "end_time": "2023-11-29T12:55:00.407392Z",
     "start_time": "2023-11-29T12:55:00.383765Z"
    }
   },
   "id": "c5ba658dfd091b7a"
  },
  {
   "cell_type": "code",
   "execution_count": 50,
   "outputs": [],
   "source": [
    "data = np.array(data)"
   ],
   "metadata": {
    "collapsed": false,
    "ExecuteTime": {
     "end_time": "2023-11-29T12:55:00.628456Z",
     "start_time": "2023-11-29T12:55:00.390214Z"
    }
   },
   "id": "f63308bb9b195289"
  },
  {
   "cell_type": "code",
   "execution_count": 51,
   "outputs": [],
   "source": [
    "row, col = data.shape\n",
    "\n",
    "# Shuffle the data\n",
    "np.random.shuffle(data)"
   ],
   "metadata": {
    "collapsed": false,
    "ExecuteTime": {
     "end_time": "2023-11-29T12:55:02.805004Z",
     "start_time": "2023-11-29T12:55:00.628859Z"
    }
   },
   "id": "d88a31408d4d56d4"
  },
  {
   "cell_type": "markdown",
   "source": [
    "# 2. Split the data into Train & Val"
   ],
   "metadata": {
    "collapsed": false
   },
   "id": "dec0f6d9b6c667dd"
  },
  {
   "cell_type": "code",
   "execution_count": 52,
   "outputs": [],
   "source": [
    "# Split validation data and transpose it\n",
    "data_val = data[0:1000].T\n",
    "\n",
    "Y_val = data_val[0]\n",
    "X_val = data_val[1:col]\n",
    "X_val = X_val / 255."
   ],
   "metadata": {
    "collapsed": false,
    "ExecuteTime": {
     "end_time": "2023-11-29T12:55:02.818621Z",
     "start_time": "2023-11-29T12:55:02.805884Z"
    }
   },
   "id": "e44b7da2e58364cd"
  },
  {
   "cell_type": "code",
   "execution_count": 53,
   "outputs": [],
   "source": [
    "# Split training data and transpose it\n",
    "train_data = data[1000:row].T\n",
    "Y_train = train_data[0]\n",
    "X_train = train_data[1:col]\n",
    "X_train = X_train / 255."
   ],
   "metadata": {
    "collapsed": false,
    "ExecuteTime": {
     "end_time": "2023-11-29T12:55:03.068576Z",
     "start_time": "2023-11-29T12:55:02.813437Z"
    }
   },
   "id": "8a919dfbd9d3a170"
  },
  {
   "cell_type": "code",
   "execution_count": 54,
   "outputs": [
    {
     "name": "stdout",
     "output_type": "stream",
     "text": [
      "X_train shape:  (784, 41000)\n"
     ]
    }
   ],
   "source": [
    "print(\"X_train shape: \", X_train.shape)"
   ],
   "metadata": {
    "collapsed": false,
    "ExecuteTime": {
     "end_time": "2023-11-29T12:55:03.081315Z",
     "start_time": "2023-11-29T12:55:03.069719Z"
    }
   },
   "id": "284b5e5d52110046"
  },
  {
   "cell_type": "markdown",
   "source": [
    "# 3. Constructing the Neural Network Model"
   ],
   "metadata": {
    "collapsed": false
   },
   "id": "137a042277dabbff"
  },
  {
   "cell_type": "code",
   "execution_count": 55,
   "outputs": [],
   "source": [
    "# Initialize parameters\n",
    "def init_params():\n",
    "    W1 = np.random.rand(10, 784) - 0.5\n",
    "    b1 = np.random.rand(10, 1) - 0.5\n",
    "    W2 = np.random.rand(10, 10) - 0.5\n",
    "    b2 = np.random.rand(10, 1) - 0.5\n",
    "    \n",
    "    return W1, b1, W2, b2"
   ],
   "metadata": {
    "collapsed": false,
    "ExecuteTime": {
     "end_time": "2023-11-29T12:55:03.084446Z",
     "start_time": "2023-11-29T12:55:03.076920Z"
    }
   },
   "id": "e2376862d078ea6c"
  },
  {
   "cell_type": "code",
   "execution_count": 56,
   "outputs": [],
   "source": [
    "# Rectified Linear Unit Function (ReLU)\n",
    "def ReLU(Z):\n",
    "    return np.maximum(0, Z)"
   ],
   "metadata": {
    "collapsed": false,
    "ExecuteTime": {
     "end_time": "2023-11-29T12:55:03.097001Z",
     "start_time": "2023-11-29T12:55:03.084286Z"
    }
   },
   "id": "c35f4c53201214eb"
  },
  {
   "cell_type": "code",
   "execution_count": 57,
   "outputs": [],
   "source": [
    "# Softmax Activation Function\n",
    "def softmax(Z):\n",
    "    A = np.exp(Z) / sum(np.exp(Z))\n",
    "    return A"
   ],
   "metadata": {
    "collapsed": false,
    "ExecuteTime": {
     "end_time": "2023-11-29T12:55:03.140793Z",
     "start_time": "2023-11-29T12:55:03.089235Z"
    }
   },
   "id": "e036de2420bf5467"
  },
  {
   "cell_type": "code",
   "execution_count": 58,
   "outputs": [],
   "source": [
    "# Forward propagation\n",
    "def forward(W1, b1, W2, b2, X):\n",
    "    Z1 = W1.dot(X) + b1\n",
    "    A1 = ReLU(Z1)\n",
    "    Z2 = W2.dot(A1) + b2\n",
    "    A2 = softmax(Z2)\n",
    "    \n",
    "    return Z1, A1, Z2, A2"
   ],
   "metadata": {
    "collapsed": false,
    "ExecuteTime": {
     "end_time": "2023-11-29T12:55:03.152189Z",
     "start_time": "2023-11-29T12:55:03.095269Z"
    }
   },
   "id": "24ef4776a6d8a28c"
  },
  {
   "cell_type": "code",
   "execution_count": 59,
   "outputs": [],
   "source": [
    "# function to One Hot Encode\n",
    "def one_hot_encode(Y):\n",
    "    one_hot_Y = np.zeros((Y.size, Y.max() + 1))\n",
    "    one_hot_Y[np.arange(Y.size), Y] = 1\n",
    "    one_hot_Y = one_hot_Y.T\n",
    "    \n",
    "    return one_hot_Y"
   ],
   "metadata": {
    "collapsed": false,
    "ExecuteTime": {
     "end_time": "2023-11-29T12:55:03.234144Z",
     "start_time": "2023-11-29T12:55:03.103975Z"
    }
   },
   "id": "9e632463c417f402"
  },
  {
   "cell_type": "code",
   "execution_count": 60,
   "outputs": [],
   "source": [
    "# Derivative of ReLU\n",
    "def deriv_ReLU(Z):\n",
    "    return Z > 0"
   ],
   "metadata": {
    "collapsed": false,
    "ExecuteTime": {
     "end_time": "2023-11-29T12:55:03.235624Z",
     "start_time": "2023-11-29T12:55:03.114102Z"
    }
   },
   "id": "11b9d66c4b98f030"
  },
  {
   "cell_type": "code",
   "execution_count": 61,
   "outputs": [],
   "source": [
    "# Backward propagation\n",
    "def backward(Z1, A1, Z2, A2, W1, W2, X, Y):  \n",
    "    one_hot_Y = one_hot_encode(Y)\n",
    "    \n",
    "    # Layer [2] - Output Layer\n",
    "    dZ2 = A2 - one_hot_Y\n",
    "    dW2 = 1 / row * dZ2.dot(A1.T)\n",
    "    db2 = 1/ row * np.sum(dZ2)\n",
    "    \n",
    "    # Layer [1] - Hidden Layer\n",
    "    dZ1 = W2.T.dot(dZ2) * deriv_ReLU(Z1)\n",
    "    dW1 = 1 / row * dZ2.dot(X.T)\n",
    "    db1 = 1/ row * np.sum(dZ1)\n",
    "    \n",
    "    return dW1, db1, dW2, db2"
   ],
   "metadata": {
    "collapsed": false,
    "ExecuteTime": {
     "end_time": "2023-11-29T12:55:03.236456Z",
     "start_time": "2023-11-29T12:55:03.119235Z"
    }
   },
   "id": "486016afdb158698"
  },
  {
   "cell_type": "code",
   "execution_count": 62,
   "outputs": [],
   "source": [
    "# Update Parameters\n",
    "def update_params(W1, b1, W2, b2, dW1, db1, dW2, db2, alpha): # alpha => learning rate\n",
    "    W1 = W1 - alpha * dW1\n",
    "    b1 = b1 - alpha * db1\n",
    "    W2 = W2 - alpha * dW2\n",
    "    b2 = b2 - alpha * db2\n",
    "    \n",
    "    return W1, b1, W2, b2"
   ],
   "metadata": {
    "collapsed": false,
    "ExecuteTime": {
     "end_time": "2023-11-29T12:55:03.237049Z",
     "start_time": "2023-11-29T12:55:03.124771Z"
    }
   },
   "id": "a9e7aec7db1e6b45"
  },
  {
   "cell_type": "code",
   "execution_count": 63,
   "outputs": [],
   "source": [
    "# Predictions\n",
    "def get_predictions(A2):\n",
    "    return np.argmax(A2, 0)"
   ],
   "metadata": {
    "collapsed": false,
    "ExecuteTime": {
     "end_time": "2023-11-29T12:55:03.237596Z",
     "start_time": "2023-11-29T12:55:03.131076Z"
    }
   },
   "id": "18f2ffdead905bf9"
  },
  {
   "cell_type": "code",
   "execution_count": 64,
   "outputs": [],
   "source": [
    "# Accuracy\n",
    "def get_accuracy(predictions, Y):\n",
    "    print(predictions, Y)\n",
    "    return np.sum(predictions == Y) / Y.size"
   ],
   "metadata": {
    "collapsed": false,
    "ExecuteTime": {
     "end_time": "2023-11-29T12:55:03.291563Z",
     "start_time": "2023-11-29T12:55:03.138437Z"
    }
   },
   "id": "f476fa9db3b6b461"
  },
  {
   "cell_type": "code",
   "execution_count": 65,
   "outputs": [],
   "source": [
    "# Gradient Descent\n",
    "def gradient_descent(X, Y, iterations, alpha):\n",
    "    W1, b1, W2, b2 = init_params()\n",
    "    \n",
    "    for i in range(iterations):\n",
    "        Z1, A1, Z2, A2 = forward(W1, b1, W2, b2, X)\n",
    "        dW1, db1, dW2, db2 = backward(Z1, A1, Z2, A2, W1, W2, X, Y)\n",
    "        W1, b1, W2, b2 = update_params(W1, b1, W2, b2, dW1, db1, dW2, db2, alpha)\n",
    "        \n",
    "        if i % 10 == 0:\n",
    "            print(\"Iteration: \", i)\n",
    "            print(\"Accuracy: \", get_accuracy(get_predictions(A2), Y))\n",
    "            \n",
    "    return W1, b1, W2, b2"
   ],
   "metadata": {
    "collapsed": false,
    "ExecuteTime": {
     "end_time": "2023-11-29T12:55:03.291951Z",
     "start_time": "2023-11-29T12:55:03.145795Z"
    }
   },
   "id": "84c870e1e0071d9e"
  },
  {
   "cell_type": "code",
   "execution_count": 66,
   "outputs": [
    {
     "name": "stdout",
     "output_type": "stream",
     "text": [
      "Iteration:  0\n",
      "[4 4 5 ... 7 4 1] [2 1 2 ... 4 2 3]\n",
      "Accuracy:  0.0852439024390244\n",
      "Iteration:  10\n",
      "[2 2 2 ... 9 6 4] [2 1 2 ... 4 2 3]\n",
      "Accuracy:  0.22509756097560976\n",
      "Iteration:  20\n",
      "[2 1 1 ... 9 4 3] [2 1 2 ... 4 2 3]\n",
      "Accuracy:  0.3061219512195122\n",
      "Iteration:  30\n",
      "[2 1 1 ... 9 3 3] [2 1 2 ... 4 2 3]\n",
      "Accuracy:  0.3816341463414634\n",
      "Iteration:  40\n",
      "[2 1 2 ... 9 3 3] [2 1 2 ... 4 2 3]\n",
      "Accuracy:  0.4614146341463415\n",
      "Iteration:  50\n",
      "[2 1 2 ... 9 3 3] [2 1 2 ... 4 2 3]\n",
      "Accuracy:  0.5284146341463415\n",
      "Iteration:  60\n",
      "[2 1 2 ... 9 2 3] [2 1 2 ... 4 2 3]\n",
      "Accuracy:  0.5810975609756097\n",
      "Iteration:  70\n",
      "[2 1 2 ... 9 2 3] [2 1 2 ... 4 2 3]\n",
      "Accuracy:  0.6095853658536585\n",
      "Iteration:  80\n",
      "[2 1 2 ... 4 2 3] [2 1 2 ... 4 2 3]\n",
      "Accuracy:  0.637219512195122\n",
      "Iteration:  90\n",
      "[2 1 2 ... 4 2 3] [2 1 2 ... 4 2 3]\n",
      "Accuracy:  0.6740731707317074\n",
      "Iteration:  100\n",
      "[2 1 2 ... 4 2 3] [2 1 2 ... 4 2 3]\n",
      "Accuracy:  0.7009024390243902\n",
      "Iteration:  110\n",
      "[2 1 2 ... 4 2 3] [2 1 2 ... 4 2 3]\n",
      "Accuracy:  0.7223658536585366\n",
      "Iteration:  120\n",
      "[2 1 2 ... 4 2 3] [2 1 2 ... 4 2 3]\n",
      "Accuracy:  0.7383414634146341\n",
      "Iteration:  130\n",
      "[2 1 2 ... 4 2 3] [2 1 2 ... 4 2 3]\n",
      "Accuracy:  0.7508292682926829\n",
      "Iteration:  140\n",
      "[2 1 2 ... 4 2 3] [2 1 2 ... 4 2 3]\n",
      "Accuracy:  0.7627560975609756\n",
      "Iteration:  150\n",
      "[2 1 2 ... 4 2 3] [2 1 2 ... 4 2 3]\n",
      "Accuracy:  0.7726585365853659\n",
      "Iteration:  160\n",
      "[2 1 2 ... 4 2 3] [2 1 2 ... 4 2 3]\n",
      "Accuracy:  0.7808048780487805\n",
      "Iteration:  170\n",
      "[2 1 2 ... 4 2 3] [2 1 2 ... 4 2 3]\n",
      "Accuracy:  0.7873170731707317\n",
      "Iteration:  180\n",
      "[2 1 2 ... 4 2 3] [2 1 2 ... 4 2 3]\n",
      "Accuracy:  0.7930975609756098\n",
      "Iteration:  190\n",
      "[2 1 2 ... 4 2 3] [2 1 2 ... 4 2 3]\n",
      "Accuracy:  0.7984146341463415\n",
      "Iteration:  200\n",
      "[2 1 2 ... 4 2 3] [2 1 2 ... 4 2 3]\n",
      "Accuracy:  0.8034878048780488\n",
      "Iteration:  210\n",
      "[2 1 2 ... 4 2 3] [2 1 2 ... 4 2 3]\n",
      "Accuracy:  0.8076585365853659\n",
      "Iteration:  220\n",
      "[2 1 2 ... 4 2 3] [2 1 2 ... 4 2 3]\n",
      "Accuracy:  0.8117560975609757\n",
      "Iteration:  230\n",
      "[2 1 2 ... 4 2 3] [2 1 2 ... 4 2 3]\n",
      "Accuracy:  0.8157560975609756\n",
      "Iteration:  240\n",
      "[2 1 2 ... 4 2 3] [2 1 2 ... 4 2 3]\n",
      "Accuracy:  0.819\n",
      "Iteration:  250\n",
      "[2 1 2 ... 4 2 3] [2 1 2 ... 4 2 3]\n",
      "Accuracy:  0.8222682926829268\n",
      "Iteration:  260\n",
      "[2 1 2 ... 4 2 3] [2 1 2 ... 4 2 3]\n",
      "Accuracy:  0.8250243902439024\n",
      "Iteration:  270\n",
      "[2 1 2 ... 4 2 3] [2 1 2 ... 4 2 3]\n",
      "Accuracy:  0.8273658536585365\n",
      "Iteration:  280\n",
      "[2 1 2 ... 4 2 3] [2 1 2 ... 4 2 3]\n",
      "Accuracy:  0.8296829268292683\n",
      "Iteration:  290\n",
      "[2 1 2 ... 4 2 3] [2 1 2 ... 4 2 3]\n",
      "Accuracy:  0.8320731707317073\n",
      "Iteration:  300\n",
      "[2 1 2 ... 4 2 3] [2 1 2 ... 4 2 3]\n",
      "Accuracy:  0.8339512195121951\n",
      "Iteration:  310\n",
      "[2 1 2 ... 4 2 3] [2 1 2 ... 4 2 3]\n",
      "Accuracy:  0.836\n",
      "Iteration:  320\n",
      "[2 1 2 ... 4 2 3] [2 1 2 ... 4 2 3]\n",
      "Accuracy:  0.8377073170731707\n",
      "Iteration:  330\n",
      "[2 1 2 ... 4 2 3] [2 1 2 ... 4 2 3]\n",
      "Accuracy:  0.8397073170731707\n",
      "Iteration:  340\n",
      "[2 1 2 ... 4 2 3] [2 1 2 ... 4 2 3]\n",
      "Accuracy:  0.842\n",
      "Iteration:  350\n",
      "[2 1 2 ... 4 2 3] [2 1 2 ... 4 2 3]\n",
      "Accuracy:  0.8437073170731707\n",
      "Iteration:  360\n",
      "[2 1 2 ... 4 2 3] [2 1 2 ... 4 2 3]\n",
      "Accuracy:  0.845170731707317\n",
      "Iteration:  370\n",
      "[2 1 2 ... 4 2 3] [2 1 2 ... 4 2 3]\n",
      "Accuracy:  0.8463170731707317\n",
      "Iteration:  380\n",
      "[2 1 2 ... 4 2 3] [2 1 2 ... 4 2 3]\n",
      "Accuracy:  0.8478048780487805\n",
      "Iteration:  390\n",
      "[2 1 2 ... 4 2 3] [2 1 2 ... 4 2 3]\n",
      "Accuracy:  0.8497317073170731\n",
      "Iteration:  400\n",
      "[2 1 2 ... 4 2 3] [2 1 2 ... 4 2 3]\n",
      "Accuracy:  0.851170731707317\n",
      "Iteration:  410\n",
      "[2 1 2 ... 4 2 3] [2 1 2 ... 4 2 3]\n",
      "Accuracy:  0.852390243902439\n",
      "Iteration:  420\n",
      "[2 1 2 ... 4 2 3] [2 1 2 ... 4 2 3]\n",
      "Accuracy:  0.8534146341463414\n",
      "Iteration:  430\n",
      "[2 1 2 ... 4 2 3] [2 1 2 ... 4 2 3]\n",
      "Accuracy:  0.8544878048780488\n",
      "Iteration:  440\n",
      "[2 1 2 ... 4 2 3] [2 1 2 ... 4 2 3]\n",
      "Accuracy:  0.8557073170731707\n",
      "Iteration:  450\n",
      "[2 1 2 ... 4 2 3] [2 1 2 ... 4 2 3]\n",
      "Accuracy:  0.8570243902439024\n",
      "Iteration:  460\n",
      "[2 1 2 ... 4 2 3] [2 1 2 ... 4 2 3]\n",
      "Accuracy:  0.8580975609756097\n",
      "Iteration:  470\n",
      "[2 1 2 ... 4 2 3] [2 1 2 ... 4 2 3]\n",
      "Accuracy:  0.8592195121951219\n",
      "Iteration:  480\n",
      "[2 1 2 ... 4 2 3] [2 1 2 ... 4 2 3]\n",
      "Accuracy:  0.8601463414634146\n",
      "Iteration:  490\n",
      "[2 1 2 ... 4 2 3] [2 1 2 ... 4 2 3]\n",
      "Accuracy:  0.8613658536585366\n"
     ]
    }
   ],
   "source": [
    "W1, b1, W2, b2 = gradient_descent(X_train, Y_train, 500, 0.1)"
   ],
   "metadata": {
    "collapsed": false,
    "ExecuteTime": {
     "end_time": "2023-11-29T12:56:02.708289Z",
     "start_time": "2023-11-29T12:55:03.175784Z"
    }
   },
   "id": "e0071f6580927acb"
  },
  {
   "cell_type": "code",
   "execution_count": 67,
   "outputs": [],
   "source": [
    "# Make predictions\n",
    "def make_preds(X, W1, b1, W2, b2):\n",
    "    _, _, _, A2 = forward(W1, b1, W2, b2, X)\n",
    "    predictions = get_predictions(A2)\n",
    "    return predictions"
   ],
   "metadata": {
    "collapsed": false,
    "ExecuteTime": {
     "end_time": "2023-11-29T12:56:02.721454Z",
     "start_time": "2023-11-29T12:56:02.711449Z"
    }
   },
   "id": "f7d83a864a22f3bd"
  },
  {
   "cell_type": "code",
   "execution_count": 68,
   "outputs": [],
   "source": [
    "# Perform predictions\n",
    "def test_preds(index, W1, b1, W2, b2):\n",
    "    current_img = X_train[:, index, None]\n",
    "    prediction = make_preds(X_train[:, index, None], W1, b1, W2, b2)\n",
    "    label = Y_train[index]\n",
    "    \n",
    "    print(\"Prediction: \", prediction)\n",
    "    print(\"Label: \", label)\n",
    "    \n",
    "    current_img = current_img.reshape((28, 28)) * 255\n",
    "    plt.gray()\n",
    "    plt.imshow(current_img, interpolation='nearest')\n",
    "    plt.show()"
   ],
   "metadata": {
    "collapsed": false,
    "ExecuteTime": {
     "end_time": "2023-11-29T12:56:02.735032Z",
     "start_time": "2023-11-29T12:56:02.721671Z"
    }
   },
   "id": "9f3eeb90e26d019c"
  },
  {
   "cell_type": "code",
   "execution_count": 70,
   "outputs": [
    {
     "name": "stdout",
     "output_type": "stream",
     "text": [
      "Prediction:  [2]\n",
      "Label:  2\n"
     ]
    },
    {
     "data": {
      "text/plain": "<Figure size 640x480 with 1 Axes>",
      "image/png": "[encoded data removed]"
     },
     "metadata": {},
     "output_type": "display_data"
    },
    {
     "name": "stdout",
     "output_type": "stream",
     "text": [
      "Prediction:  [1]\n",
      "Label:  1\n"
     ]
    },
    {
     "data": {
      "text/plain": "<Figure size 640x480 with 1 Axes>",
      "image/png": "[encoded data removed]"
     },
     "metadata": {},
     "output_type": "display_data"
    },
    {
     "name": "stdout",
     "output_type": "stream",
     "text": [
      "Prediction:  [2]\n",
      "Label:  2\n"
     ]
    },
    {
     "data": {
      "text/plain": "<Figure size 640x480 with 1 Axes>",
      "image/png": "[encoded data removed]"
     },
     "metadata": {},
     "output_type": "display_data"
    },
    {
     "name": "stdout",
     "output_type": "stream",
     "text": [
      "Prediction:  [4]\n",
      "Label:  4\n"
     ]
    },
    {
     "data": {
      "text/plain": "<Figure size 640x480 with 1 Axes>",
      "image/png": "[encoded data removed]"
     },
     "metadata": {},
     "output_type": "display_data"
    },
    {
     "name": "stdout",
     "output_type": "stream",
     "text": [
      "Prediction:  [6]\n",
      "Label:  6\n"
     ]
    },
    {
     "data": {
      "text/plain": "<Figure size 640x480 with 1 Axes>",
      "image/png": "[encoded data removed]"
     },
     "metadata": {},
     "output_type": "display_data"
    },
    {
     "name": "stdout",
     "output_type": "stream",
     "text": [
      "Prediction:  [2]\n",
      "Label:  2\n"
     ]
    },
    {
     "data": {
      "text/plain": "<Figure size 640x480 with 1 Axes>",
      "image/png": "[encoded data removed]"
     },
     "metadata": {},
     "output_type": "display_data"
    },
    {
     "name": "stdout",
     "output_type": "stream",
     "text": [
      "Prediction:  [0]\n",
      "Label:  0\n"
     ]
    },
    {
     "data": {
      "text/plain": "<Figure size 640x480 with 1 Axes>",
      "image/png": "[encoded data removed]"
     },
     "metadata": {},
     "output_type": "display_data"
    },
    {
     "name": "stdout",
     "output_type": "stream",
     "text": [
      "Prediction:  [5]\n",
      "Label:  5\n"
     ]
    },
    {
     "data": {
      "text/plain": "<Figure size 640x480 with 1 Axes>",
      "image/png": "[encoded data removed]"
     },
     "metadata": {},
     "output_type": "display_data"
    },
    {
     "name": "stdout",
     "output_type": "stream",
     "text": [
      "Prediction:  [8]\n",
      "Label:  8\n"
     ]
    },
    {
     "data": {
      "text/plain": "<Figure size 640x480 with 1 Axes>",
      "image/png": "[encoded data removed]"
     },
     "metadata": {},
     "output_type": "display_data"
    },
    {
     "name": "stdout",
     "output_type": "stream",
     "text": [
      "Prediction:  [7]\n",
      "Label:  7\n"
     ]
    },
    {
     "data": {
      "text/plain": "<Figure size 640x480 with 1 Axes>",
      "image/png": "[encoded data removed]"
     },
     "metadata": {},
     "output_type": "display_data"
    }
   ],
   "source": [
    "# Display images and their true & predicted labels\n",
    "for i in range(10):\n",
    "    test_preds(i, W1, b1, W2, b2)"
   ],
   "metadata": {
    "collapsed": false,
    "ExecuteTime": {
     "end_time": "2023-11-29T12:57:21.010070Z",
     "start_time": "2023-11-29T12:57:19.294331Z"
    }
   },
   "id": "c54c7dd79f89772e"
  },
  {
   "cell_type": "code",
   "execution_count": 69,
   "outputs": [],
   "source": [],
   "metadata": {
    "collapsed": false,
    "ExecuteTime": {
     "end_time": "2023-11-29T12:56:03.001720Z",
     "start_time": "2023-11-29T12:56:02.991242Z"
    }
   },
   "id": "40315b6ffdd6925"
  }
 ],
 "metadata": {
  "kernelspec": {
   "display_name": "Python 3",
   "language": "python",
   "name": "python3"
  },
  "language_info": {
   "codemirror_mode": {
    "name": "ipython",
    "version": 2
   },
   "file_extension": ".py",
   "mimetype": "text/x-python",
   "name": "python",
   "nbconvert_exporter": "python",
   "pygments_lexer": "ipython2",
   "version": "2.7.6"
  }
 },
 "nbformat": 4,
 "nbformat_minor": 5
}
