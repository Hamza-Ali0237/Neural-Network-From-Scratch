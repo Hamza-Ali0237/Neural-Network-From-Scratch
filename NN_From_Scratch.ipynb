{
 "cells": [
  {
   "cell_type": "code",
   "execution_count": 107,
   "id": "initial_id",
   "metadata": {
    "collapsed": true,
    "ExecuteTime": {
     "end_time": "2023-11-29T12:31:53.558140Z",
     "start_time": "2023-11-29T12:31:53.539971Z"
    }
   },
   "outputs": [],
   "source": [
    "import pandas as pd\n",
    "import numpy as np\n",
    "import matplotlib.pyplot as plt\n",
    "import math"
   ]
  },
  {
   "cell_type": "markdown",
   "source": [
    "# 1. Load the data"
   ],
   "metadata": {
    "collapsed": false
   },
   "id": "5efdebab8c52262c"
  },
  {
   "cell_type": "code",
   "execution_count": 108,
   "outputs": [],
   "source": [
    "data = pd.read_csv('digit-recognizer/train.csv')"
   ],
   "metadata": {
    "collapsed": false,
    "ExecuteTime": {
     "end_time": "2023-11-29T12:31:56.414544Z",
     "start_time": "2023-11-29T12:31:53.548210Z"
    }
   },
   "id": "a8817e0057f3a776"
  },
  {
   "cell_type": "code",
   "execution_count": 109,
   "outputs": [
    {
     "data": {
      "text/plain": "   label  pixel0  pixel1  pixel2  pixel3  pixel4  pixel5  pixel6  pixel7   \n0      1       0       0       0       0       0       0       0       0  \\\n1      0       0       0       0       0       0       0       0       0   \n2      1       0       0       0       0       0       0       0       0   \n3      4       0       0       0       0       0       0       0       0   \n4      0       0       0       0       0       0       0       0       0   \n\n   pixel8  ...  pixel774  pixel775  pixel776  pixel777  pixel778  pixel779   \n0       0  ...         0         0         0         0         0         0  \\\n1       0  ...         0         0         0         0         0         0   \n2       0  ...         0         0         0         0         0         0   \n3       0  ...         0         0         0         0         0         0   \n4       0  ...         0         0         0         0         0         0   \n\n   pixel780  pixel781  pixel782  pixel783  \n0         0         0         0         0  \n1         0         0         0         0  \n2         0         0         0         0  \n3         0         0         0         0  \n4         0         0         0         0  \n\n[5 rows x 785 columns]",
      "text/html": "<div>\n<style scoped>\n    .dataframe tbody tr th:only-of-type {\n        vertical-align: middle;\n    }\n\n    .dataframe tbody tr th {\n        vertical-align: top;\n    }\n\n    .dataframe thead th {\n        text-align: right;\n    }\n</style>\n<table border=\"1\" class=\"dataframe\">\n  <thead>\n    <tr style=\"text-align: right;\">\n      <th></th>\n      <th>label</th>\n      <th>pixel0</th>\n      <th>pixel1</th>\n      <th>pixel2</th>\n      <th>pixel3</th>\n      <th>pixel4</th>\n      <th>pixel5</th>\n      <th>pixel6</th>\n      <th>pixel7</th>\n      <th>pixel8</th>\n      <th>...</th>\n      <th>pixel774</th>\n      <th>pixel775</th>\n      <th>pixel776</th>\n      <th>pixel777</th>\n      <th>pixel778</th>\n      <th>pixel779</th>\n      <th>pixel780</th>\n      <th>pixel781</th>\n      <th>pixel782</th>\n      <th>pixel783</th>\n    </tr>\n  </thead>\n  <tbody>\n    <tr>\n      <th>0</th>\n      <td>1</td>\n      <td>0</td>\n      <td>0</td>\n      <td>0</td>\n      <td>0</td>\n      <td>0</td>\n      <td>0</td>\n      <td>0</td>\n      <td>0</td>\n      <td>0</td>\n      <td>...</td>\n      <td>0</td>\n      <td>0</td>\n      <td>0</td>\n      <td>0</td>\n      <td>0</td>\n      <td>0</td>\n      <td>0</td>\n      <td>0</td>\n      <td>0</td>\n      <td>0</td>\n    </tr>\n    <tr>\n      <th>1</th>\n      <td>0</td>\n      <td>0</td>\n      <td>0</td>\n      <td>0</td>\n      <td>0</td>\n      <td>0</td>\n      <td>0</td>\n      <td>0</td>\n      <td>0</td>\n      <td>0</td>\n      <td>...</td>\n      <td>0</td>\n      <td>0</td>\n      <td>0</td>\n      <td>0</td>\n      <td>0</td>\n      <td>0</td>\n      <td>0</td>\n      <td>0</td>\n      <td>0</td>\n      <td>0</td>\n    </tr>\n    <tr>\n      <th>2</th>\n      <td>1</td>\n      <td>0</td>\n      <td>0</td>\n      <td>0</td>\n      <td>0</td>\n      <td>0</td>\n      <td>0</td>\n      <td>0</td>\n      <td>0</td>\n      <td>0</td>\n      <td>...</td>\n      <td>0</td>\n      <td>0</td>\n      <td>0</td>\n      <td>0</td>\n      <td>0</td>\n      <td>0</td>\n      <td>0</td>\n      <td>0</td>\n      <td>0</td>\n      <td>0</td>\n    </tr>\n    <tr>\n      <th>3</th>\n      <td>4</td>\n      <td>0</td>\n      <td>0</td>\n      <td>0</td>\n      <td>0</td>\n      <td>0</td>\n      <td>0</td>\n      <td>0</td>\n      <td>0</td>\n      <td>0</td>\n      <td>...</td>\n      <td>0</td>\n      <td>0</td>\n      <td>0</td>\n      <td>0</td>\n      <td>0</td>\n      <td>0</td>\n      <td>0</td>\n      <td>0</td>\n      <td>0</td>\n      <td>0</td>\n    </tr>\n    <tr>\n      <th>4</th>\n      <td>0</td>\n      <td>0</td>\n      <td>0</td>\n      <td>0</td>\n      <td>0</td>\n      <td>0</td>\n      <td>0</td>\n      <td>0</td>\n      <td>0</td>\n      <td>0</td>\n      <td>...</td>\n      <td>0</td>\n      <td>0</td>\n      <td>0</td>\n      <td>0</td>\n      <td>0</td>\n      <td>0</td>\n      <td>0</td>\n      <td>0</td>\n      <td>0</td>\n      <td>0</td>\n    </tr>\n  </tbody>\n</table>\n<p>5 rows × 785 columns</p>\n</div>"
     },
     "execution_count": 109,
     "metadata": {},
     "output_type": "execute_result"
    }
   ],
   "source": [
    "data.head()"
   ],
   "metadata": {
    "collapsed": false,
    "ExecuteTime": {
     "end_time": "2023-11-29T12:31:56.431366Z",
     "start_time": "2023-11-29T12:31:56.426224Z"
    }
   },
   "id": "1f427b31219436c5"
  },
  {
   "cell_type": "code",
   "execution_count": 110,
   "outputs": [
    {
     "data": {
      "text/plain": "(42000, 785)"
     },
     "execution_count": 110,
     "metadata": {},
     "output_type": "execute_result"
    }
   ],
   "source": [
    "data.shape"
   ],
   "metadata": {
    "collapsed": false,
    "ExecuteTime": {
     "end_time": "2023-11-29T12:31:56.464902Z",
     "start_time": "2023-11-29T12:31:56.433704Z"
    }
   },
   "id": "c5ba658dfd091b7a"
  },
  {
   "cell_type": "code",
   "execution_count": 111,
   "outputs": [],
   "source": [
    "data = np.array(data)"
   ],
   "metadata": {
    "collapsed": false,
    "ExecuteTime": {
     "end_time": "2023-11-29T12:31:56.654996Z",
     "start_time": "2023-11-29T12:31:56.438475Z"
    }
   },
   "id": "f63308bb9b195289"
  },
  {
   "cell_type": "code",
   "execution_count": 112,
   "outputs": [],
   "source": [
    "row, col = data.shape\n",
    "\n",
    "# Shuffle the data\n",
    "np.random.shuffle(data)"
   ],
   "metadata": {
    "collapsed": false,
    "ExecuteTime": {
     "end_time": "2023-11-29T12:31:58.472880Z",
     "start_time": "2023-11-29T12:31:56.658782Z"
    }
   },
   "id": "d88a31408d4d56d4"
  },
  {
   "cell_type": "markdown",
   "source": [
    "# 2. Split the data into Train & Val"
   ],
   "metadata": {
    "collapsed": false
   },
   "id": "dec0f6d9b6c667dd"
  },
  {
   "cell_type": "code",
   "execution_count": 113,
   "outputs": [],
   "source": [
    "# Split validation data and transpose it\n",
    "data_val = data[0:1000].T\n",
    "\n",
    "Y_val = data_val[0]\n",
    "X_val = data_val[1:col]\n",
    "X_val = X_val / 255."
   ],
   "metadata": {
    "collapsed": false,
    "ExecuteTime": {
     "end_time": "2023-11-29T12:31:58.482432Z",
     "start_time": "2023-11-29T12:31:58.475314Z"
    }
   },
   "id": "e44b7da2e58364cd"
  },
  {
   "cell_type": "code",
   "execution_count": 114,
   "outputs": [],
   "source": [
    "# Split training data and transpose it\n",
    "train_data = data[1000:row].T\n",
    "Y_train = train_data[0]\n",
    "X_train = train_data[1:col]\n",
    "X_train = X_train / 255."
   ],
   "metadata": {
    "collapsed": false,
    "ExecuteTime": {
     "end_time": "2023-11-29T12:31:58.744560Z",
     "start_time": "2023-11-29T12:31:58.481022Z"
    }
   },
   "id": "8a919dfbd9d3a170"
  },
  {
   "cell_type": "code",
   "execution_count": 115,
   "outputs": [
    {
     "name": "stdout",
     "output_type": "stream",
     "text": [
      "X_train shape:  (784, 41000)\n"
     ]
    }
   ],
   "source": [
    "print(\"X_train shape: \", X_train.shape)"
   ],
   "metadata": {
    "collapsed": false,
    "ExecuteTime": {
     "end_time": "2023-11-29T12:31:58.755250Z",
     "start_time": "2023-11-29T12:31:58.747094Z"
    }
   },
   "id": "284b5e5d52110046"
  },
  {
   "cell_type": "markdown",
   "source": [
    "# 3. Constructing the Neural Network Model"
   ],
   "metadata": {
    "collapsed": false
   },
   "id": "137a042277dabbff"
  },
  {
   "cell_type": "code",
   "execution_count": 116,
   "outputs": [],
   "source": [
    "# Initialize parameters\n",
    "def init_params():\n",
    "    W1 = np.random.rand(10, 784) - 0.5\n",
    "    b1 = np.random.rand(10, 1) - 0.5\n",
    "    W2 = np.random.rand(10, 10) - 0.5\n",
    "    b2 = np.random.rand(10, 1) - 0.5\n",
    "    \n",
    "    return W1, b1, W2, b2"
   ],
   "metadata": {
    "collapsed": false,
    "ExecuteTime": {
     "end_time": "2023-11-29T12:31:58.757374Z",
     "start_time": "2023-11-29T12:31:58.753819Z"
    }
   },
   "id": "e2376862d078ea6c"
  },
  {
   "cell_type": "code",
   "execution_count": 117,
   "outputs": [],
   "source": [
    "# Rectified Linear Unit Function (ReLU)\n",
    "def ReLU(Z):\n",
    "    return np.maximum(0, Z)"
   ],
   "metadata": {
    "collapsed": false,
    "ExecuteTime": {
     "end_time": "2023-11-29T12:31:58.765178Z",
     "start_time": "2023-11-29T12:31:58.758808Z"
    }
   },
   "id": "c35f4c53201214eb"
  },
  {
   "cell_type": "code",
   "execution_count": 118,
   "outputs": [],
   "source": [
    "# Softmax Activation Function\n",
    "def softmax(Z):\n",
    "    A = np.exp(Z) / sum(np.exp(Z))\n",
    "    return A"
   ],
   "metadata": {
    "collapsed": false,
    "ExecuteTime": {
     "end_time": "2023-11-29T12:31:58.800044Z",
     "start_time": "2023-11-29T12:31:58.764583Z"
    }
   },
   "id": "e036de2420bf5467"
  },
  {
   "cell_type": "code",
   "execution_count": 119,
   "outputs": [],
   "source": [
    "# Forward propagation\n",
    "def forward(W1, b1, W2, b2, X):\n",
    "    Z1 = W1.dot(X) + b1\n",
    "    A1 = ReLU(Z1)\n",
    "    Z2 = W2.dot(A1) + b2\n",
    "    A2 = softmax(Z2)\n",
    "    \n",
    "    return Z1, A1, Z2, A2"
   ],
   "metadata": {
    "collapsed": false,
    "ExecuteTime": {
     "end_time": "2023-11-29T12:31:58.813513Z",
     "start_time": "2023-11-29T12:31:58.774140Z"
    }
   },
   "id": "24ef4776a6d8a28c"
  },
  {
   "cell_type": "code",
   "execution_count": 120,
   "outputs": [],
   "source": [
    "# function to One Hot Encode\n",
    "def one_hot_encode(Y):\n",
    "    one_hot_Y = np.zeros((Y.size, Y.max() + 1))\n",
    "    one_hot_Y[np.arange(Y.size), Y] = 1\n",
    "    one_hot_Y = one_hot_Y.T\n",
    "    \n",
    "    return one_hot_Y"
   ],
   "metadata": {
    "collapsed": false,
    "ExecuteTime": {
     "end_time": "2023-11-29T12:31:58.813741Z",
     "start_time": "2023-11-29T12:31:58.783050Z"
    }
   },
   "id": "9e632463c417f402"
  },
  {
   "cell_type": "code",
   "execution_count": 121,
   "outputs": [],
   "source": [
    "# Derivative of ReLU\n",
    "def deriv_ReLU(Z):\n",
    "    return Z > 0"
   ],
   "metadata": {
    "collapsed": false,
    "ExecuteTime": {
     "end_time": "2023-11-29T12:31:58.814159Z",
     "start_time": "2023-11-29T12:31:58.791395Z"
    }
   },
   "id": "11b9d66c4b98f030"
  },
  {
   "cell_type": "code",
   "execution_count": 122,
   "outputs": [],
   "source": [
    "# Backward propagation\n",
    "def backward(Z1, A1, Z2, A2, W1, W2, X, Y):  \n",
    "    one_hot_Y = one_hot_encode(Y)\n",
    "    \n",
    "    # Layer [2] - Output Layer\n",
    "    dZ2 = A2 - one_hot_Y\n",
    "    dW2 = 1 / row * dZ2.dot(A1.T)\n",
    "    db2 = 1/ row * np.sum(dZ2)\n",
    "    \n",
    "    # Layer [1] - Hidden Layer\n",
    "    dZ1 = W2.T.dot(dZ2) * deriv_ReLU(Z1)\n",
    "    dW1 = 1 / row * dZ2.dot(X.T)\n",
    "    db1 = 1/ row * np.sum(dZ1)\n",
    "    \n",
    "    return dW1, db1, dW2, db2"
   ],
   "metadata": {
    "collapsed": false,
    "ExecuteTime": {
     "end_time": "2023-11-29T12:31:58.815620Z",
     "start_time": "2023-11-29T12:31:58.797843Z"
    }
   },
   "id": "486016afdb158698"
  },
  {
   "cell_type": "code",
   "execution_count": 123,
   "outputs": [],
   "source": [
    "# Update Parameters\n",
    "def update_params(W1, b1, W2, b2, dW1, db1, dW2, db2, alpha): # alpha => learning rate\n",
    "    W1 = W1 - alpha * dW1\n",
    "    b1 = b1 - alpha * db1\n",
    "    W2 = W2 - alpha * dW2\n",
    "    b2 = b2 - alpha * db2\n",
    "    \n",
    "    return W1, b1, W2, b2"
   ],
   "metadata": {
    "collapsed": false,
    "ExecuteTime": {
     "end_time": "2023-11-29T12:31:58.816839Z",
     "start_time": "2023-11-29T12:31:58.799787Z"
    }
   },
   "id": "a9e7aec7db1e6b45"
  },
  {
   "cell_type": "code",
   "execution_count": 124,
   "outputs": [],
   "source": [
    "# Predictions\n",
    "def get_predictions(A2):\n",
    "    return np.argmax(A2, 0)"
   ],
   "metadata": {
    "collapsed": false,
    "ExecuteTime": {
     "end_time": "2023-11-29T12:31:58.817096Z",
     "start_time": "2023-11-29T12:31:58.808601Z"
    }
   },
   "id": "18f2ffdead905bf9"
  },
  {
   "cell_type": "code",
   "execution_count": 125,
   "outputs": [],
   "source": [
    "# Accuracy\n",
    "def get_accuracy(predictions, Y):\n",
    "    print(predictions, Y)\n",
    "    return np.sum(predictions == Y) / Y.size"
   ],
   "metadata": {
    "collapsed": false,
    "ExecuteTime": {
     "end_time": "2023-11-29T12:31:58.832479Z",
     "start_time": "2023-11-29T12:31:58.814418Z"
    }
   },
   "id": "f476fa9db3b6b461"
  },
  {
   "cell_type": "code",
   "execution_count": 126,
   "outputs": [],
   "source": [
    "# Gradient Descent\n",
    "def gradient_descent(X, Y, iterations, alpha):\n",
    "    W1, b1, W2, b2 = init_params()\n",
    "    \n",
    "    for i in range(iterations):\n",
    "        Z1, A1, Z2, A2 = forward(W1, b1, W2, b2, X)\n",
    "        dW1, db1, dW2, db2 = backward(Z1, A1, Z2, A2, W1, W2, X, Y)\n",
    "        W1, b1, W2, b2 = update_params(W1, b1, W2, b2, dW1, db1, dW2, db2, alpha)\n",
    "        \n",
    "        if i % 10 == 0:\n",
    "            print(\"Iteration: \", i)\n",
    "            print(\"Accuracy: \", get_accuracy(get_predictions(A2), Y))\n",
    "            \n",
    "    return W1, b1, W1, b2"
   ],
   "metadata": {
    "collapsed": false,
    "ExecuteTime": {
     "end_time": "2023-11-29T12:31:58.880361Z",
     "start_time": "2023-11-29T12:31:58.822661Z"
    }
   },
   "id": "84c870e1e0071d9e"
  },
  {
   "cell_type": "code",
   "execution_count": 127,
   "outputs": [
    {
     "name": "stdout",
     "output_type": "stream",
     "text": [
      "Iteration:  0\n",
      "[4 4 4 ... 4 4 4] [4 7 1 ... 5 1 8]\n",
      "Accuracy:  0.07946341463414634\n",
      "Iteration:  10\n",
      "[8 8 2 ... 8 4 2] [4 7 1 ... 5 1 8]\n",
      "Accuracy:  0.08939024390243902\n",
      "Iteration:  20\n",
      "[6 1 2 ... 3 1 2] [4 7 1 ... 5 1 8]\n",
      "Accuracy:  0.21565853658536585\n",
      "Iteration:  30\n",
      "[6 1 1 ... 3 1 2] [4 7 1 ... 5 1 8]\n",
      "Accuracy:  0.36253658536585365\n",
      "Iteration:  40\n",
      "[6 1 1 ... 3 1 2] [4 7 1 ... 5 1 8]\n",
      "Accuracy:  0.48273170731707316\n",
      "Iteration:  50\n",
      "[8 2 1 ... 3 1 2] [4 7 1 ... 5 1 8]\n",
      "Accuracy:  0.5411707317073171\n",
      "Iteration:  60\n",
      "[8 2 1 ... 3 1 2] [4 7 1 ... 5 1 8]\n",
      "Accuracy:  0.6021219512195122\n",
      "Iteration:  70\n",
      "[8 2 1 ... 3 1 8] [4 7 1 ... 5 1 8]\n",
      "Accuracy:  0.6499268292682927\n",
      "Iteration:  80\n",
      "[8 2 1 ... 3 1 8] [4 7 1 ... 5 1 8]\n",
      "Accuracy:  0.6751463414634147\n",
      "Iteration:  90\n",
      "[9 2 1 ... 3 1 8] [4 7 1 ... 5 1 8]\n",
      "Accuracy:  0.6978780487804878\n",
      "Iteration:  100\n",
      "[9 2 1 ... 3 1 8] [4 7 1 ... 5 1 8]\n",
      "Accuracy:  0.716\n",
      "Iteration:  110\n",
      "[9 7 1 ... 3 1 8] [4 7 1 ... 5 1 8]\n",
      "Accuracy:  0.7302439024390244\n",
      "Iteration:  120\n",
      "[9 7 1 ... 5 1 8] [4 7 1 ... 5 1 8]\n",
      "Accuracy:  0.7434146341463415\n",
      "Iteration:  130\n",
      "[9 7 1 ... 5 1 8] [4 7 1 ... 5 1 8]\n",
      "Accuracy:  0.7539024390243902\n",
      "Iteration:  140\n",
      "[9 7 1 ... 5 1 8] [4 7 1 ... 5 1 8]\n",
      "Accuracy:  0.7629756097560976\n",
      "Iteration:  150\n",
      "[9 7 1 ... 5 1 8] [4 7 1 ... 5 1 8]\n",
      "Accuracy:  0.7711463414634147\n",
      "Iteration:  160\n",
      "[9 7 1 ... 5 1 8] [4 7 1 ... 5 1 8]\n",
      "Accuracy:  0.7775609756097561\n",
      "Iteration:  170\n",
      "[9 7 1 ... 5 1 8] [4 7 1 ... 5 1 8]\n",
      "Accuracy:  0.7832682926829269\n",
      "Iteration:  180\n",
      "[9 7 1 ... 5 1 8] [4 7 1 ... 5 1 8]\n",
      "Accuracy:  0.7892682926829269\n",
      "Iteration:  190\n",
      "[9 7 1 ... 5 1 8] [4 7 1 ... 5 1 8]\n",
      "Accuracy:  0.7941463414634147\n",
      "Iteration:  200\n",
      "[9 7 1 ... 5 1 8] [4 7 1 ... 5 1 8]\n",
      "Accuracy:  0.7986341463414635\n",
      "Iteration:  210\n",
      "[9 7 1 ... 5 1 8] [4 7 1 ... 5 1 8]\n",
      "Accuracy:  0.8031219512195122\n",
      "Iteration:  220\n",
      "[9 7 1 ... 5 1 8] [4 7 1 ... 5 1 8]\n",
      "Accuracy:  0.8067317073170732\n",
      "Iteration:  230\n",
      "[9 7 1 ... 5 1 8] [4 7 1 ... 5 1 8]\n",
      "Accuracy:  0.8100975609756098\n",
      "Iteration:  240\n",
      "[9 7 1 ... 5 1 8] [4 7 1 ... 5 1 8]\n",
      "Accuracy:  0.8136097560975609\n",
      "Iteration:  250\n",
      "[9 7 1 ... 5 1 8] [4 7 1 ... 5 1 8]\n",
      "Accuracy:  0.8169512195121951\n",
      "Iteration:  260\n",
      "[9 7 1 ... 5 1 8] [4 7 1 ... 5 1 8]\n",
      "Accuracy:  0.8200731707317073\n",
      "Iteration:  270\n",
      "[9 7 1 ... 5 1 8] [4 7 1 ... 5 1 8]\n",
      "Accuracy:  0.823170731707317\n",
      "Iteration:  280\n",
      "[9 7 1 ... 5 1 8] [4 7 1 ... 5 1 8]\n",
      "Accuracy:  0.8259756097560975\n",
      "Iteration:  290\n",
      "[9 7 1 ... 5 1 8] [4 7 1 ... 5 1 8]\n",
      "Accuracy:  0.8284634146341463\n",
      "Iteration:  300\n",
      "[9 7 1 ... 5 1 8] [4 7 1 ... 5 1 8]\n",
      "Accuracy:  0.8304634146341463\n",
      "Iteration:  310\n",
      "[9 7 1 ... 5 1 8] [4 7 1 ... 5 1 8]\n",
      "Accuracy:  0.8324878048780487\n",
      "Iteration:  320\n",
      "[4 7 1 ... 5 1 8] [4 7 1 ... 5 1 8]\n",
      "Accuracy:  0.8346097560975609\n",
      "Iteration:  330\n",
      "[4 7 1 ... 5 1 8] [4 7 1 ... 5 1 8]\n",
      "Accuracy:  0.8364146341463414\n",
      "Iteration:  340\n",
      "[4 7 1 ... 5 1 8] [4 7 1 ... 5 1 8]\n",
      "Accuracy:  0.8385365853658536\n",
      "Iteration:  350\n",
      "[4 7 1 ... 5 1 8] [4 7 1 ... 5 1 8]\n",
      "Accuracy:  0.840609756097561\n",
      "Iteration:  360\n",
      "[4 7 1 ... 5 1 8] [4 7 1 ... 5 1 8]\n",
      "Accuracy:  0.8424634146341463\n",
      "Iteration:  370\n",
      "[4 7 1 ... 5 1 8] [4 7 1 ... 5 1 8]\n",
      "Accuracy:  0.8438292682926829\n",
      "Iteration:  380\n",
      "[4 7 1 ... 5 1 8] [4 7 1 ... 5 1 8]\n",
      "Accuracy:  0.8457073170731707\n",
      "Iteration:  390\n",
      "[4 7 1 ... 5 1 8] [4 7 1 ... 5 1 8]\n",
      "Accuracy:  0.8474146341463414\n",
      "Iteration:  400\n",
      "[4 7 1 ... 5 1 8] [4 7 1 ... 5 1 8]\n",
      "Accuracy:  0.8484390243902439\n",
      "Iteration:  410\n",
      "[4 7 1 ... 5 1 8] [4 7 1 ... 5 1 8]\n",
      "Accuracy:  0.850170731707317\n",
      "Iteration:  420\n",
      "[4 7 1 ... 5 1 8] [4 7 1 ... 5 1 8]\n",
      "Accuracy:  0.8520243902439024\n",
      "Iteration:  430\n",
      "[4 7 1 ... 5 1 8] [4 7 1 ... 5 1 8]\n",
      "Accuracy:  0.8536341463414634\n",
      "Iteration:  440\n",
      "[4 7 1 ... 5 1 8] [4 7 1 ... 5 1 8]\n",
      "Accuracy:  0.8548780487804878\n",
      "Iteration:  450\n",
      "[4 7 1 ... 5 1 8] [4 7 1 ... 5 1 8]\n",
      "Accuracy:  0.8562195121951219\n",
      "Iteration:  460\n",
      "[4 7 1 ... 5 1 8] [4 7 1 ... 5 1 8]\n",
      "Accuracy:  0.8574634146341463\n",
      "Iteration:  470\n",
      "[4 7 1 ... 5 1 8] [4 7 1 ... 5 1 8]\n",
      "Accuracy:  0.8585365853658536\n",
      "Iteration:  480\n",
      "[4 7 1 ... 5 1 8] [4 7 1 ... 5 1 8]\n",
      "Accuracy:  0.8594390243902439\n",
      "Iteration:  490\n",
      "[4 7 1 ... 5 1 8] [4 7 1 ... 5 1 8]\n",
      "Accuracy:  0.8603658536585366\n"
     ]
    }
   ],
   "source": [
    "W1, b1, W2, b2 = gradient_descent(X_train, Y_train, 500, 0.1)"
   ],
   "metadata": {
    "collapsed": false,
    "ExecuteTime": {
     "end_time": "2023-11-29T12:32:54.208729Z",
     "start_time": "2023-11-29T12:31:58.827686Z"
    }
   },
   "id": "e0071f6580927acb"
  },
  {
   "cell_type": "code",
   "execution_count": 127,
   "outputs": [],
   "source": [],
   "metadata": {
    "collapsed": false,
    "ExecuteTime": {
     "end_time": "2023-11-29T12:32:54.217729Z",
     "start_time": "2023-11-29T12:32:54.209003Z"
    }
   },
   "id": "f7d83a864a22f3bd"
  }
 ],
 "metadata": {
  "kernelspec": {
   "display_name": "Python 3",
   "language": "python",
   "name": "python3"
  },
  "language_info": {
   "codemirror_mode": {
    "name": "ipython",
    "version": 2
   },
   "file_extension": ".py",
   "mimetype": "text/x-python",
   "name": "python",
   "nbconvert_exporter": "python",
   "pygments_lexer": "ipython2",
   "version": "2.7.6"
  }
 },
 "nbformat": 4,
 "nbformat_minor": 5
}
